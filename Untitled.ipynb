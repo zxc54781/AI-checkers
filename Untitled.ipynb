{
 "cells": [
  {
   "cell_type": "code",
   "execution_count": 4,
   "metadata": {},
   "outputs": [],
   "source": [
    "#!/usr/bin/env python\n",
    "# coding: utf-8\n",
    "\n",
    "# In[ ]:\n",
    "import pygame as pg\n",
    "\n",
    "class Plotting:\n",
    "    def __init__ (self, Nx, grid_size, margin_x, margin_y, Lx, Ly, man_value, king_value, FLIP, WINDOWS):\n",
    "        self.Nx = Nx\n",
    "        self.grid_size = grid_size\n",
    "        self.man_value = man_value\n",
    "        self.king_value = king_value\n",
    "        self.margin_x = margin_x\n",
    "        self.margin_y = margin_y\n",
    "        self.Lx = Lx\n",
    "        self.Ly = Ly\n",
    "        self.FLIP = FLIP\n",
    "        self.WINDOWS = WINDOWS\n",
    "        \n",
    "    def SHOW_TEXT(self, font, text, x, y):\n",
    "        x = x\n",
    "        y = y\n",
    "        text = font.render(text, True, (0, 0, 0))\n",
    "        self.WINDOWS.blit(text, (x+self.margin_x+2, y+self.margin_y))\n",
    "        pg.display.update()\n",
    "\n",
    "    def WINDOWS_PLOT(self, WINDOWS, FLIP):\n",
    "        BOARD = pg.image.load('./ImageAndWord /tablero_original_revised.png')\n",
    "        BOARD = pg.transform.smoothscale(BOARD, (self.grid_size*self.Nx, self.grid_size*self.Nx))\n",
    "\n",
    "        BOARD_IMAGE = BOARD.get_rect()\n",
    "        BOARD_IMAGE.topleft = (self.margin_x, self.margin_y)\n",
    "\n",
    "        #ACKGROUND = pg.Surface(WINDOWS.get_size())\n",
    "        BACKGROUND = pg.image.load('./ImageAndWord/background_2.jpg')\n",
    "        BACKGROUND = pg.transform.smoothscale(BACKGROUND, (self.Lx,self.Ly))\n",
    "        BACKGROUND = BACKGROUND.convert()\n",
    "\n",
    "        self.WINDOWS.blit(BACKGROUND, (0,0))\n",
    "        self.WINDOWS.blit(BOARD, BOARD_IMAGE)\n",
    "\n",
    "        font = pg.font.Font(\"./ImageAndWord/l_10646.ttf\", 10)\n",
    "        for i in range(0,64):\n",
    "            if self.FLIP:\n",
    "                text = f\"{self.Nx**2-1-i}\"\n",
    "            else:\n",
    "                text = f\"{i}\"\n",
    "            text_x = i%self.Nx\n",
    "            text_y = i//self.Nx\n",
    "            self.SHOW_TEXT(font, text, text_x*self.grid_size, text_y*self.grid_size)\n",
    "\n",
    "    def CHECKER_PLOT(self, list_of_checkers, WINDOWS, FLIP):\n",
    "        shift_x = 12\n",
    "        shift_y = 12\n",
    "\n",
    "        for index,element in enumerate(list_of_checkers):\n",
    "            if element == -self.man_value:\n",
    "                CHECKER = pg.image.load('./ImageAndWord/CHECKER_RED.png')\n",
    "            elif element == self.man_value:\n",
    "                CHECKER = pg.image.load('./ImageAndWord/CHECKER_WHITE.png')\n",
    "            elif element == -self.king_value:\n",
    "                CHECKER = pg.image.load('./ImageAndWord/CHECKER_RED_KING.png')\n",
    "            elif element == self.king_value:\n",
    "                CHECKER = pg.image.load('./ImageAndWord/CHECKER_WHITE_KING.png')\n",
    "\n",
    "            checker_x = index%self.Nx\n",
    "            checker_y = index//self.Nx\n",
    "            if FLIP:\n",
    "                checker_x = self.Nx-1-checker_x\n",
    "                checker_y = self.Nx-1-checker_y\n",
    "            if (element!=0):\n",
    "                CHECKER = pg.transform.smoothscale(CHECKER, (2*self.grid_size, 2*self.grid_size))\n",
    "                self.WINDOWS.blit(CHECKER, (checker_x*self.grid_size+shift_x,checker_y*self.grid_size+shift_y))\n",
    "\n",
    "    def MOVE_HINT(self, available_move):\n",
    "        available_start = []\n",
    "        available_stop = []\n",
    "        for i in available_move:\n",
    "            available_start.append(i[0])\n",
    "            available_start = list(set(available_start))  # remove the repeating elements\n",
    "            available_stop.append(i[1])\n",
    "            available_stop = list(set(available_stop))  # remove the repeating elements\n",
    "        return (available_start, available_stop)\n",
    "\n"
   ]
  },
  {
   "cell_type": "code",
   "execution_count": 2,
   "metadata": {},
   "outputs": [],
   "source": [
    "import pygame as pg\n",
    "\n"
   ]
  },
  {
   "cell_type": "code",
   "execution_count": 6,
   "metadata": {},
   "outputs": [
    {
     "data": {
      "text/plain": [
       "<Surface(256x256x24 SW)>"
      ]
     },
     "execution_count": 6,
     "metadata": {},
     "output_type": "execute_result"
    }
   ],
   "source": [
    "pg.image.load('./ImageAndWord /tablero_original_revised.png')"
   ]
  },
  {
   "cell_type": "code",
   "execution_count": null,
   "metadata": {},
   "outputs": [],
   "source": []
  }
 ],
 "metadata": {
  "kernelspec": {
   "display_name": "Python 3",
   "language": "python",
   "name": "python3"
  },
  "language_info": {
   "codemirror_mode": {
    "name": "ipython",
    "version": 3
   },
   "file_extension": ".py",
   "mimetype": "text/x-python",
   "name": "python",
   "nbconvert_exporter": "python",
   "pygments_lexer": "ipython3",
   "version": "3.7.1"
  }
 },
 "nbformat": 4,
 "nbformat_minor": 2
}
